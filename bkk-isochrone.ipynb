{
 "cells": [
  {
   "cell_type": "code",
   "execution_count": 2,
   "metadata": {
    "colab": {
     "base_uri": "https://localhost:8080/"
    },
    "id": "7bMtoXQQcDfo",
    "outputId": "0269c10c-7519-463f-90a6-cf2aed60801b"
   },
   "outputs": [
    {
     "name": "stdout",
     "output_type": "stream",
     "text": [
      "Requirement already satisfied: folium in /Users/mishari/SynologyDrive/Drive/Projects/OSM/Isochrone/venv/lib/python3.10/site-packages (0.13.0)\n",
      "Requirement already satisfied: requests in /Users/mishari/SynologyDrive/Drive/Projects/OSM/Isochrone/venv/lib/python3.10/site-packages (from folium) (2.28.1)\n",
      "Requirement already satisfied: branca>=0.3.0 in /Users/mishari/SynologyDrive/Drive/Projects/OSM/Isochrone/venv/lib/python3.10/site-packages (from folium) (0.6.0)\n",
      "Requirement already satisfied: jinja2>=2.9 in /Users/mishari/SynologyDrive/Drive/Projects/OSM/Isochrone/venv/lib/python3.10/site-packages (from folium) (3.1.2)\n",
      "Requirement already satisfied: numpy in /Users/mishari/SynologyDrive/Drive/Projects/OSM/Isochrone/venv/lib/python3.10/site-packages (from folium) (1.23.5)\n",
      "Requirement already satisfied: MarkupSafe>=2.0 in /Users/mishari/SynologyDrive/Drive/Projects/OSM/Isochrone/venv/lib/python3.10/site-packages (from jinja2>=2.9->folium) (2.1.1)\n",
      "Requirement already satisfied: charset-normalizer<3,>=2 in /Users/mishari/SynologyDrive/Drive/Projects/OSM/Isochrone/venv/lib/python3.10/site-packages (from requests->folium) (2.1.1)\n",
      "Requirement already satisfied: certifi>=2017.4.17 in /Users/mishari/SynologyDrive/Drive/Projects/OSM/Isochrone/venv/lib/python3.10/site-packages (from requests->folium) (2022.12.7)\n",
      "Requirement already satisfied: urllib3<1.27,>=1.21.1 in /Users/mishari/SynologyDrive/Drive/Projects/OSM/Isochrone/venv/lib/python3.10/site-packages (from requests->folium) (1.26.13)\n",
      "Requirement already satisfied: idna<4,>=2.5 in /Users/mishari/SynologyDrive/Drive/Projects/OSM/Isochrone/venv/lib/python3.10/site-packages (from requests->folium) (3.4)\n",
      "\n",
      "\u001b[1m[\u001b[0m\u001b[34;49mnotice\u001b[0m\u001b[1;39;49m]\u001b[0m\u001b[39;49m A new release of pip available: \u001b[0m\u001b[31;49m22.3.1\u001b[0m\u001b[39;49m -> \u001b[0m\u001b[32;49m23.0\u001b[0m\n",
      "\u001b[1m[\u001b[0m\u001b[34;49mnotice\u001b[0m\u001b[1;39;49m]\u001b[0m\u001b[39;49m To update, run: \u001b[0m\u001b[32;49mpip install --upgrade pip\u001b[0m\n"
     ]
    }
   ],
   "source": [
    "!pip install folium"
   ]
  },
  {
   "cell_type": "code",
   "execution_count": 3,
   "metadata": {
    "colab": {
     "base_uri": "https://localhost:8080/"
    },
    "id": "1uFDuAoqWeGM",
    "outputId": "0af1e994-06fd-420b-ccbe-7fcba81b7e1e"
   },
   "outputs": [],
   "source": [
    "# Get key from geoapify.com into ./geoapify.key\n",
    "KEY_PATH = \"./geoapify.key\"\n",
    "API_KEY = open(KEY_PATH).read().strip()"
   ]
  },
  {
   "cell_type": "code",
   "execution_count": 4,
   "metadata": {
    "colab": {
     "base_uri": "https://localhost:8080/"
    },
    "id": "bga2wvcMYL3J",
    "outputId": "3a7ae5fb-add6-4d61-e005-5120a3dcabe0"
   },
   "outputs": [],
   "source": [
    "import requests\n",
    "from requests.structures import CaseInsensitiveDict\n",
    "\n",
    "def get_geojson(mode, lat, lon, minutes):\n",
    "    seconds = minutes * 60\n",
    "    url = \"https://api.geoapify.com/v1/isoline?lat=%f&lon=%f&type=time&mode=%s&range=%d&apiKey=%s\" % (lat,lon,mode,seconds, API_KEY)\n",
    "\n",
    "    headers = CaseInsensitiveDict()\n",
    "    headers[\"Accept\"] = \"application/json\"\n",
    "\n",
    "    resp = requests.get(url, headers=headers)\n",
    "    return json.loads(resp.content)[\"features\"][0][\"geometry\"]\n"
   ]
  },
  {
   "cell_type": "code",
   "execution_count": 5,
   "metadata": {},
   "outputs": [],
   "source": [
    "# Execute the query\n",
    "response = requests.get(\"http://overpass-api.de/api/interpreter?data=%5Bout%3Ajson%5D%5Btimeout%3A25%5D%3B%0Aarea%28id%3A3600092277%29-%3E.searchArea%3B%0A%28%0A%20%20node%5B%22railway%22%3D%22station%22%5D%28area.searchArea%29%3B%0A%20%20way%5B%22railway%22%3D%22station%22%5D%28area.searchArea%29%3B%0A%20%20relation%5B%22railway%22%3D%22station%22%5D%28area.searchArea%29%3B%0A%29%3B%0Aout%20body%3B%0A%3E%3B%0Aout%20skel%20qt%3B\")\n",
    "\n",
    "# Check the status code of the response\n",
    "if response.status_code == 200:\n",
    "    # Parse the JSON data\n",
    "    data = response.json()\n",
    "    \n",
    "    # Extract the nodes from the data\n",
    "    nodes = data['elements']\n",
    "    \n",
    "    # Create a list to store the train stations\n",
    "    train_stations = []\n",
    "    \n",
    "    # Iterate through the nodes\n",
    "    for node in nodes:\n",
    "        try:\n",
    "            # Extract the coordinates and name of the train station\n",
    "            lat = node['lat']\n",
    "            lon = node['lon']\n",
    "            name = node['tags'].get('name', '')\n",
    "\n",
    "            # Add the train station to the list\n",
    "            train_stations.append((lat, lon, name))\n",
    "        except KeyError:\n",
    "            pass\n",
    "\n",
    "else:\n",
    "    # Print an error message\n",
    "    print(\"Error:\", response.status_code)\n",
    "    print(response.text)"
   ]
  },
  {
   "cell_type": "code",
   "execution_count": null,
   "metadata": {
    "id": "BSdAvaxJdceK"
   },
   "outputs": [],
   "source": [
    "import json\n",
    "\n",
    "bicycle_polygons = []\n",
    "for t in train_stations:\n",
    "    five_minutes = get_geojson(\"bicycle\", t[0],t[1], 5)\n",
    "    ten_minutes = get_geojson(\"bicycle\", t[0],t[1], 10)\n",
    "    fifteen_minutes = get_geojson(\"bicycle\", t[0],t[1], 15)\n",
    "    bicycle_polygons.append((t[0],t[1],five_minutes,ten_minutes,fifteen_minutes,t[2]))\n",
    "\n",
    "walk_polygons = []\n",
    "for t in train_stations:\n",
    "    five_minutes = get_geojson(\"walk\", t[0],t[1], 5)\n",
    "    ten_minutes = get_geojson(\"walk\", t[0],t[1], 10)\n",
    "    fifteen_minutes = get_geojson(\"walk\", t[0],t[1], 15)\n",
    "    walk_polygons.append((t[0],t[1],five_minutes,ten_minutes,fifteen_minutes,t[2]))\n"
   ]
  },
  {
   "cell_type": "code",
   "execution_count": null,
   "metadata": {
    "colab": {
     "base_uri": "https://localhost:8080/",
     "height": 35
    },
    "id": "HdIDA-ogdF1M",
    "outputId": "72c96523-3c58-4b96-a111-12878abc0202",
    "scrolled": true
   },
   "outputs": [],
   "source": [
    "import folium\n",
    "import io\n",
    "from PIL import Image\n",
    "\n",
    "def generate_png(mode, polygon):\n",
    "    \n",
    "    mp = polygon\n",
    "\n",
    "    lat = mp[0]\n",
    "    lon = mp[1]\n",
    "\n",
    "    five_minutes = mp[2]\n",
    "    ten_minutes = mp[3]\n",
    "    fifteen_minutes = mp[4]\n",
    "    name = mp[5]\n",
    "\n",
    "    if mode == \"walk\":\n",
    "        zoom_level = 15\n",
    "    else:\n",
    "        zoom_level = 13\n",
    "    \n",
    "    loc = mode.capitalize() + ': ' + name\n",
    "    title_html = '''\n",
    "             <h3 align=\"center\" style=\"font-size:16px\"><b>{}</b></h3>\n",
    "             '''.format(loc) \n",
    "\n",
    "\n",
    "    m = folium.Map(location=[lat,lon], zoom_start=zoom_level)\n",
    "\n",
    "\n",
    "    folium.TileLayer('cartodbpositron').add_to(m)\n",
    "\n",
    "    folium.GeoJson(five_minutes, style_function=lambda feature: {\n",
    "            'fillColor': '#2735B5',\n",
    "            'color': '#2735B5',\n",
    "            'weight': 2,\n",
    "        }).add_to(m)\n",
    "    folium.GeoJson(ten_minutes, style_function=lambda feature: {\n",
    "            'fillColor': '#5C7CCF',\n",
    "            'color': '#5C7CCF',\n",
    "            'weight': 2,\n",
    "        }).add_to(m)\n",
    "    folium.GeoJson(fifteen_minutes, style_function=lambda feature: {\n",
    "            'fillColor': '#81A7E0',\n",
    "            'color': '#81A7E0',\n",
    "            'weight': 2,\n",
    "        }).add_to(m)\n",
    "    folium.Marker( location=[lat,lon],\n",
    "                 popup=folium.Popup(name, max_width=2650)\n",
    "                 ).add_to(m)\n",
    "\n",
    "    footer_html = \"Made by OpenTech Community Thailand CC-BY-SA <BR> Map(c) OpenStreetMap Contributors ODbL\"\n",
    "    m.get_root().html.add_child(folium.Element(title_html))\n",
    "    m.get_root().html.add_child(folium.Element(footer_html))\n",
    "\n",
    "    img_data = m._to_png(5)\n",
    "    img = Image.open(io.BytesIO(img_data))\n",
    "    \n",
    "    # Make sure you've created output/bicycle and output/walk\n",
    "    output_filename = \"output\" + '/' + mode + '/' + name + \".png\"\n",
    "    \n",
    "    img.save(output_filename)\n",
    "\n",
    "    print(output_filename)\n"
   ]
  },
  {
   "cell_type": "code",
   "execution_count": null,
   "metadata": {},
   "outputs": [],
   "source": [
    "for m in bicycle_polygons:\n",
    "    generate_png(\"bicycle\",m)"
   ]
  },
  {
   "cell_type": "code",
   "execution_count": null,
   "metadata": {},
   "outputs": [],
   "source": [
    "for m in walk_polygons:\n",
    "    generate_png(\"walk\",m)"
   ]
  },
  {
   "cell_type": "code",
   "execution_count": null,
   "metadata": {},
   "outputs": [],
   "source": []
  }
 ],
 "metadata": {
  "colab": {
   "provenance": []
  },
  "kernelspec": {
   "display_name": "Python 3 (ipykernel)",
   "language": "python",
   "name": "python3"
  },
  "language_info": {
   "codemirror_mode": {
    "name": "ipython",
    "version": 3
   },
   "file_extension": ".py",
   "mimetype": "text/x-python",
   "name": "python",
   "nbconvert_exporter": "python",
   "pygments_lexer": "ipython3",
   "version": "3.10.8"
  }
 },
 "nbformat": 4,
 "nbformat_minor": 1
}
